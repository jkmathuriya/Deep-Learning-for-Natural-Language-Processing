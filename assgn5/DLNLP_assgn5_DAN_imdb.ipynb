{
 "cells": [
  {
   "cell_type": "markdown",
   "id": "2d6a91e5",
   "metadata": {},
   "source": [
    "# Import Libraries"
   ]
  },
  {
   "cell_type": "code",
   "execution_count": 2,
   "id": "56e06997",
   "metadata": {},
   "outputs": [],
   "source": [
    "import csv\n",
    "import tensorflow as tf\n",
    "from tensorflow import keras\n",
    "from tensorflow.keras.models import *\n",
    "from tensorflow.keras.layers import *"
   ]
  },
  {
   "cell_type": "code",
   "execution_count": 3,
   "id": "ff655031",
   "metadata": {},
   "outputs": [],
   "source": [
    "import os\n",
    "import numpy as np\n",
    "import contractions as ctc\n",
    "import re\n",
    "import pandas as pd"
   ]
  },
  {
   "cell_type": "code",
   "execution_count": 4,
   "id": "b0e6b487",
   "metadata": {},
   "outputs": [],
   "source": [
    "from tensorflow.keras import models,layers\n",
    "import tensorflow.keras.backend as K\n",
    "from matplotlib import pyplot as plt\n",
    "from tensorflow.keras.models import load_model"
   ]
  },
  {
   "cell_type": "code",
   "execution_count": 103,
   "id": "3d1f100a",
   "metadata": {},
   "outputs": [],
   "source": [
    "import tensorflow_hub as hub\n",
    "from sklearn.metrics import classification_report,f1_score"
   ]
  },
  {
   "cell_type": "markdown",
   "id": "a5e96ba9",
   "metadata": {},
   "source": [
    "# Load Preprocess data"
   ]
  },
  {
   "cell_type": "code",
   "execution_count": 29,
   "id": "59e52b75",
   "metadata": {},
   "outputs": [],
   "source": [
    "df_imdb=pd.read_csv(\"IMDB Dataset.csv\")"
   ]
  },
  {
   "cell_type": "code",
   "execution_count": 30,
   "id": "7f5da1eb",
   "metadata": {},
   "outputs": [],
   "source": [
    "labels2={\"positive\":1,\"negative\":0}"
   ]
  },
  {
   "cell_type": "code",
   "execution_count": 31,
   "id": "072c76eb",
   "metadata": {},
   "outputs": [],
   "source": [
    "df_imdb[\"lables\"]=df_imdb[\"sentiment\"].map(labels2)"
   ]
  },
  {
   "cell_type": "code",
   "execution_count": 32,
   "id": "3acef451",
   "metadata": {},
   "outputs": [],
   "source": [
    "## Putting space b/w Special Characters\n",
    "def is_special(text):\n",
    "    rem = ''\n",
    "    for i in text: \n",
    "        if i.isalnum():\n",
    "            rem = rem + i\n",
    "        else:\n",
    "            rem = rem + ' '\n",
    "            rem=rem+i\n",
    "            rem = rem + ' '\n",
    "    return rem"
   ]
  },
  {
   "cell_type": "code",
   "execution_count": 33,
   "id": "a9a122a6",
   "metadata": {},
   "outputs": [],
   "source": [
    "## removing extra spsces from text\n",
    "def rem_extra(text):\n",
    "    rem=re.sub(' +', ' ',text)\n",
    "    return str(rem).strip()"
   ]
  },
  {
   "cell_type": "code",
   "execution_count": 34,
   "id": "c29000c8",
   "metadata": {},
   "outputs": [],
   "source": [
    "df_imdb.review=df_imdb.review.apply(is_special)"
   ]
  },
  {
   "cell_type": "code",
   "execution_count": 35,
   "id": "24b14f52",
   "metadata": {},
   "outputs": [],
   "source": [
    "df_imdb.review=df_imdb.review.apply(rem_extra)"
   ]
  },
  {
   "cell_type": "code",
   "execution_count": 36,
   "id": "bae3f700",
   "metadata": {},
   "outputs": [],
   "source": [
    "df_train=df_imdb.iloc[0:25000]\n",
    "df_test=df_imdb.iloc[25000:]"
   ]
  },
  {
   "cell_type": "code",
   "execution_count": 37,
   "id": "6565060a",
   "metadata": {},
   "outputs": [
    {
     "data": {
      "text/html": [
       "<div>\n",
       "<style scoped>\n",
       "    .dataframe tbody tr th:only-of-type {\n",
       "        vertical-align: middle;\n",
       "    }\n",
       "\n",
       "    .dataframe tbody tr th {\n",
       "        vertical-align: top;\n",
       "    }\n",
       "\n",
       "    .dataframe thead th {\n",
       "        text-align: right;\n",
       "    }\n",
       "</style>\n",
       "<table border=\"1\" class=\"dataframe\">\n",
       "  <thead>\n",
       "    <tr style=\"text-align: right;\">\n",
       "      <th></th>\n",
       "      <th>review</th>\n",
       "      <th>sentiment</th>\n",
       "      <th>lables</th>\n",
       "    </tr>\n",
       "  </thead>\n",
       "  <tbody>\n",
       "    <tr>\n",
       "      <th>0</th>\n",
       "      <td>One of the other reviewers has mentioned that ...</td>\n",
       "      <td>positive</td>\n",
       "      <td>1</td>\n",
       "    </tr>\n",
       "    <tr>\n",
       "      <th>1</th>\n",
       "      <td>A wonderful little production . &lt; br / &gt; &lt; br ...</td>\n",
       "      <td>positive</td>\n",
       "      <td>1</td>\n",
       "    </tr>\n",
       "    <tr>\n",
       "      <th>2</th>\n",
       "      <td>I thought this was a wonderful way to spend ti...</td>\n",
       "      <td>positive</td>\n",
       "      <td>1</td>\n",
       "    </tr>\n",
       "    <tr>\n",
       "      <th>3</th>\n",
       "      <td>Basically there ' s a family where a little bo...</td>\n",
       "      <td>negative</td>\n",
       "      <td>0</td>\n",
       "    </tr>\n",
       "    <tr>\n",
       "      <th>4</th>\n",
       "      <td>Petter Mattei ' s \" Love in the Time of Money ...</td>\n",
       "      <td>positive</td>\n",
       "      <td>1</td>\n",
       "    </tr>\n",
       "  </tbody>\n",
       "</table>\n",
       "</div>"
      ],
      "text/plain": [
       "                                              review sentiment  lables\n",
       "0  One of the other reviewers has mentioned that ...  positive       1\n",
       "1  A wonderful little production . < br / > < br ...  positive       1\n",
       "2  I thought this was a wonderful way to spend ti...  positive       1\n",
       "3  Basically there ' s a family where a little bo...  negative       0\n",
       "4  Petter Mattei ' s \" Love in the Time of Money ...  positive       1"
      ]
     },
     "execution_count": 37,
     "metadata": {},
     "output_type": "execute_result"
    }
   ],
   "source": [
    "df_train.head()"
   ]
  },
  {
   "cell_type": "code",
   "execution_count": null,
   "id": "42cb82a7",
   "metadata": {},
   "outputs": [],
   "source": []
  },
  {
   "cell_type": "code",
   "execution_count": null,
   "id": "bf46e763",
   "metadata": {},
   "outputs": [],
   "source": []
  },
  {
   "cell_type": "code",
   "execution_count": null,
   "id": "d442fe50",
   "metadata": {},
   "outputs": [],
   "source": []
  },
  {
   "cell_type": "code",
   "execution_count": null,
   "id": "667a7238",
   "metadata": {},
   "outputs": [],
   "source": []
  },
  {
   "cell_type": "markdown",
   "id": "8296b4c6",
   "metadata": {},
   "source": [
    "# Load Pretrained GloVe"
   ]
  },
  {
   "cell_type": "code",
   "execution_count": 38,
   "id": "c70db119",
   "metadata": {},
   "outputs": [
    {
     "name": "stdout",
     "output_type": "stream",
     "text": [
      "Loaded 400000 word vectors.\n"
     ]
    }
   ],
   "source": [
    "embeddings_index = dict()\n",
    "addrs=\"../ADL1/embeddings/glove.6B.300d.txt\"\n",
    "f = open(addrs)\n",
    "for line in f:\n",
    "    values = line.split()\n",
    "    word = values[0]\n",
    "    coefs = np.asarray(values[1:], dtype='float32')\n",
    "    embeddings_index[word] = coefs\n",
    "f.close()\n",
    "print('Loaded %s word vectors.' % len(embeddings_index))"
   ]
  },
  {
   "cell_type": "code",
   "execution_count": 39,
   "id": "6b929f8c",
   "metadata": {},
   "outputs": [],
   "source": [
    "x_train=np.zeros((len(df_train.review),300))\n",
    "k=0;\n",
    "for i in df_train.review:\n",
    "    vec=np.zeros((300))\n",
    "    c=1;\n",
    "    for word in i.split(): \n",
    "        embedding_vector = embeddings_index.get(word)\n",
    "        #print(embedding_vector.shape)\n",
    "        if embedding_vector is not None:\n",
    "            vec+=embedding_vector\n",
    "            c+=1\n",
    "        else:\n",
    "            #print(word)\n",
    "            pass\n",
    "    x_train[k]=vec/c\n",
    "    k+=1"
   ]
  },
  {
   "cell_type": "code",
   "execution_count": 40,
   "id": "09a8f9ae",
   "metadata": {},
   "outputs": [],
   "source": [
    "x_test=np.zeros((len(df_test.review),300))\n",
    "k=0;\n",
    "for i in df_test.review:\n",
    "    vec=np.zeros((300))\n",
    "    c=0;\n",
    "    for word in i.split(): \n",
    "        embedding_vector = embeddings_index.get(word)\n",
    "        #print(embedding_vector.shape)\n",
    "        if embedding_vector is not None:\n",
    "            vec+=embedding_vector\n",
    "            c+=1\n",
    "        else:\n",
    "            #print(word)\n",
    "            pass\n",
    "    x_test[k]=vec/c\n",
    "    k+=1\n",
    "    "
   ]
  },
  {
   "cell_type": "markdown",
   "id": "453435c8",
   "metadata": {},
   "source": [
    "# DAN+DNN"
   ]
  },
  {
   "cell_type": "code",
   "execution_count": 57,
   "id": "556ff9ca",
   "metadata": {},
   "outputs": [],
   "source": [
    "model1=Sequential()\n",
    "model1.add(InputLayer((300)))\n",
    "model1.add(Dense(1024))\n",
    "model1.add(Dense(512))\n",
    "model1.add(Dropout(0.2))\n",
    "model1.add(Dense(256))\n",
    "model1.add(Dropout(0.2))\n",
    "model1.add(Dense(512))\n",
    "model1.add(Dense(256,activation=\"relu\"))\n",
    "model1.add(Dense(128,activation=\"relu\"))\n",
    "model1.add(Dense(5,activation=\"softmax\"))"
   ]
  },
  {
   "cell_type": "code",
   "execution_count": 59,
   "id": "34768862",
   "metadata": {},
   "outputs": [],
   "source": [
    "model1.compile(loss=\"sparse_categorical_crossentropy\",optimizer=\"adam\",metrics=\"accuracy\")"
   ]
  },
  {
   "cell_type": "code",
   "execution_count": 60,
   "id": "99b9d387",
   "metadata": {},
   "outputs": [],
   "source": [
    "es=keras.callbacks.EarlyStopping(monitor='val_loss',patience=10,mode='min')"
   ]
  },
  {
   "cell_type": "code",
   "execution_count": 61,
   "id": "6c1b9bb5",
   "metadata": {},
   "outputs": [
    {
     "name": "stdout",
     "output_type": "stream",
     "text": [
      "Epoch 1/100\n",
      "704/704 [==============================] - 4s 5ms/step - loss: 0.4994 - accuracy: 0.7575 - val_loss: 0.4147 - val_accuracy: 0.8140\n",
      "Epoch 2/100\n",
      "704/704 [==============================] - 4s 5ms/step - loss: 0.4206 - accuracy: 0.8135 - val_loss: 0.4015 - val_accuracy: 0.8264\n",
      "Epoch 3/100\n",
      "704/704 [==============================] - 3s 5ms/step - loss: 0.4078 - accuracy: 0.8208 - val_loss: 0.4173 - val_accuracy: 0.8076\n",
      "Epoch 4/100\n",
      "704/704 [==============================] - 3s 5ms/step - loss: 0.4102 - accuracy: 0.8224 - val_loss: 0.4043 - val_accuracy: 0.8200\n",
      "Epoch 5/100\n",
      "704/704 [==============================] - 3s 5ms/step - loss: 0.3990 - accuracy: 0.8239 - val_loss: 0.4507 - val_accuracy: 0.7876\n",
      "Epoch 6/100\n",
      "704/704 [==============================] - 4s 5ms/step - loss: 0.3929 - accuracy: 0.8300 - val_loss: 0.4078 - val_accuracy: 0.8176\n",
      "Epoch 7/100\n",
      "704/704 [==============================] - 4s 5ms/step - loss: 0.3906 - accuracy: 0.8288 - val_loss: 0.5167 - val_accuracy: 0.7780\n",
      "Epoch 8/100\n",
      "704/704 [==============================] - 3s 5ms/step - loss: 0.3931 - accuracy: 0.8292 - val_loss: 0.4087 - val_accuracy: 0.8164\n",
      "Epoch 9/100\n",
      "704/704 [==============================] - 3s 4ms/step - loss: 0.3860 - accuracy: 0.8323 - val_loss: 0.4518 - val_accuracy: 0.7908\n",
      "Epoch 10/100\n",
      "704/704 [==============================] - 3s 5ms/step - loss: 0.3867 - accuracy: 0.8330 - val_loss: 0.3998 - val_accuracy: 0.8156\n",
      "Epoch 11/100\n",
      "704/704 [==============================] - 3s 5ms/step - loss: 0.3855 - accuracy: 0.8337 - val_loss: 0.4393 - val_accuracy: 0.8124\n",
      "Epoch 12/100\n",
      "704/704 [==============================] - 4s 5ms/step - loss: 0.3815 - accuracy: 0.8348 - val_loss: 0.4283 - val_accuracy: 0.7888\n",
      "Epoch 13/100\n",
      "704/704 [==============================] - 4s 5ms/step - loss: 0.3879 - accuracy: 0.8344 - val_loss: 0.3945 - val_accuracy: 0.8248\n",
      "Epoch 14/100\n",
      "704/704 [==============================] - 4s 5ms/step - loss: 0.3910 - accuracy: 0.8306 - val_loss: 0.4099 - val_accuracy: 0.8136\n",
      "Epoch 15/100\n",
      "704/704 [==============================] - 4s 5ms/step - loss: 0.3763 - accuracy: 0.8402 - val_loss: 0.4011 - val_accuracy: 0.8224\n",
      "Epoch 16/100\n",
      "704/704 [==============================] - 3s 5ms/step - loss: 0.3819 - accuracy: 0.8336 - val_loss: 0.3866 - val_accuracy: 0.8256\n",
      "Epoch 17/100\n",
      "704/704 [==============================] - 4s 5ms/step - loss: 0.3832 - accuracy: 0.8355 - val_loss: 0.4082 - val_accuracy: 0.8192\n",
      "Epoch 18/100\n",
      "704/704 [==============================] - 3s 5ms/step - loss: 0.4255 - accuracy: 0.8158 - val_loss: 0.5947 - val_accuracy: 0.8160\n",
      "Epoch 19/100\n",
      "704/704 [==============================] - 4s 5ms/step - loss: 0.5362 - accuracy: 0.7724 - val_loss: 0.3931 - val_accuracy: 0.8252\n",
      "Epoch 20/100\n",
      "704/704 [==============================] - 3s 5ms/step - loss: 0.3770 - accuracy: 0.8379 - val_loss: 0.3953 - val_accuracy: 0.8276\n",
      "Epoch 21/100\n",
      "704/704 [==============================] - 3s 5ms/step - loss: 0.3752 - accuracy: 0.8391 - val_loss: 0.3918 - val_accuracy: 0.8208\n",
      "Epoch 22/100\n",
      "704/704 [==============================] - 3s 5ms/step - loss: 0.3793 - accuracy: 0.8341 - val_loss: 0.3968 - val_accuracy: 0.8224\n",
      "Epoch 23/100\n",
      "704/704 [==============================] - 4s 5ms/step - loss: 0.3780 - accuracy: 0.8365 - val_loss: 0.3838 - val_accuracy: 0.8252\n",
      "Epoch 24/100\n",
      "704/704 [==============================] - 4s 5ms/step - loss: 0.3721 - accuracy: 0.8398 - val_loss: 0.3903 - val_accuracy: 0.8268\n",
      "Epoch 25/100\n",
      "704/704 [==============================] - 3s 5ms/step - loss: 0.3752 - accuracy: 0.8392 - val_loss: 0.3888 - val_accuracy: 0.8280\n",
      "Epoch 26/100\n",
      "704/704 [==============================] - 3s 5ms/step - loss: 0.3811 - accuracy: 0.8365 - val_loss: 0.3911 - val_accuracy: 0.8280\n",
      "Epoch 27/100\n",
      "704/704 [==============================] - 3s 5ms/step - loss: 0.3967 - accuracy: 0.8283 - val_loss: 0.3866 - val_accuracy: 0.8276\n",
      "Epoch 28/100\n",
      "704/704 [==============================] - 3s 5ms/step - loss: 0.3763 - accuracy: 0.8392 - val_loss: 0.4014 - val_accuracy: 0.8284\n",
      "Epoch 29/100\n",
      "704/704 [==============================] - 3s 5ms/step - loss: 0.3758 - accuracy: 0.8393 - val_loss: 0.3955 - val_accuracy: 0.8224\n",
      "Epoch 30/100\n",
      "704/704 [==============================] - 3s 5ms/step - loss: 0.3773 - accuracy: 0.8396 - val_loss: 0.6839 - val_accuracy: 0.7996\n",
      "Epoch 31/100\n",
      "704/704 [==============================] - 3s 5ms/step - loss: 0.3724 - accuracy: 0.8379 - val_loss: 0.3889 - val_accuracy: 0.8260\n",
      "Epoch 32/100\n",
      "704/704 [==============================] - 4s 5ms/step - loss: 0.3695 - accuracy: 0.8400 - val_loss: 0.4002 - val_accuracy: 0.8276\n",
      "Epoch 33/100\n",
      "704/704 [==============================] - 4s 5ms/step - loss: 0.3719 - accuracy: 0.8411 - val_loss: 0.4117 - val_accuracy: 0.8144\n"
     ]
    },
    {
     "data": {
      "text/plain": [
       "<keras.callbacks.History at 0x7f2291f137c0>"
      ]
     },
     "execution_count": 61,
     "metadata": {},
     "output_type": "execute_result"
    }
   ],
   "source": [
    "model1.fit(x_train,df_train.lables.values,epochs=100,batch_size=32,validation_split=0.1,callbacks=[es])"
   ]
  },
  {
   "cell_type": "code",
   "execution_count": 62,
   "id": "2946a5b1",
   "metadata": {},
   "outputs": [
    {
     "name": "stdout",
     "output_type": "stream",
     "text": [
      "782/782 [==============================] - 1s 2ms/step - loss: 0.3909 - accuracy: 0.8324\n"
     ]
    },
    {
     "data": {
      "text/plain": [
       "[0.39091718196868896, 0.8324000239372253]"
      ]
     },
     "execution_count": 62,
     "metadata": {},
     "output_type": "execute_result"
    }
   ],
   "source": [
    "model1.evaluate(x_test,df_test.lables.values)"
   ]
  },
  {
   "cell_type": "code",
   "execution_count": 98,
   "id": "f7b64cc4",
   "metadata": {},
   "outputs": [],
   "source": [
    "y_pred=np.argmax(model1.predict(x_test),axis=1)"
   ]
  },
  {
   "cell_type": "code",
   "execution_count": 99,
   "id": "67c91f8d",
   "metadata": {},
   "outputs": [],
   "source": [
    "pr=classification_report(df_test.lables.values,y_pred)"
   ]
  },
  {
   "cell_type": "code",
   "execution_count": 100,
   "id": "3557d4da",
   "metadata": {},
   "outputs": [
    {
     "name": "stdout",
     "output_type": "stream",
     "text": [
      "              precision    recall  f1-score   support\n",
      "\n",
      "           0       0.80      0.89      0.84     12474\n",
      "           1       0.88      0.77      0.82     12526\n",
      "\n",
      "    accuracy                           0.83     25000\n",
      "   macro avg       0.84      0.83      0.83     25000\n",
      "weighted avg       0.84      0.83      0.83     25000\n",
      "\n"
     ]
    }
   ],
   "source": [
    "print(pr)"
   ]
  },
  {
   "cell_type": "code",
   "execution_count": 104,
   "id": "6e8e2eab",
   "metadata": {},
   "outputs": [
    {
     "data": {
      "text/plain": [
       "0.8224275300898458"
      ]
     },
     "execution_count": 104,
     "metadata": {},
     "output_type": "execute_result"
    }
   ],
   "source": [
    "f1_score(df_test.lables.values,y_pred)"
   ]
  },
  {
   "cell_type": "markdown",
   "id": "2b6115bc",
   "metadata": {},
   "source": [
    "# Load Pretrained Fast-text"
   ]
  },
  {
   "cell_type": "code",
   "execution_count": 63,
   "id": "d2dd16b9",
   "metadata": {},
   "outputs": [
    {
     "name": "stdout",
     "output_type": "stream",
     "text": [
      "Loaded 999995 word vectors.\n"
     ]
    }
   ],
   "source": [
    "embeddings_index = dict()\n",
    "addrs=\"../ADL1/embeddings/wiki-news-300d-1M-subword.vec\"\n",
    "f = open(addrs)\n",
    "for line in f:\n",
    "    values = line.split()\n",
    "    word = values[0]\n",
    "    coefs = np.asarray(values[1:], dtype='float32')\n",
    "    embeddings_index[word] = coefs\n",
    "f.close()\n",
    "print('Loaded %s word vectors.' % len(embeddings_index))"
   ]
  },
  {
   "cell_type": "code",
   "execution_count": 67,
   "id": "0784811c",
   "metadata": {},
   "outputs": [],
   "source": [
    "x_train_f=np.zeros((len(df_train.review),300))\n",
    "k=0;\n",
    "for i in df_train.review:\n",
    "    vec=np.zeros((300))\n",
    "    c=1;\n",
    "    for word in i.split(): \n",
    "        embedding_vector = embeddings_index.get(word)\n",
    "        #print(embedding_vector.shape)\n",
    "        if embedding_vector is not None:\n",
    "            vec+=embedding_vector\n",
    "            c+=1\n",
    "        else:\n",
    "            #print(word)\n",
    "            pass\n",
    "    x_train_f[k]=vec/c\n",
    "    k+=1"
   ]
  },
  {
   "cell_type": "code",
   "execution_count": 68,
   "id": "e4daa343",
   "metadata": {},
   "outputs": [],
   "source": [
    "x_test_f=np.zeros((len(df_test.review),300))\n",
    "k=0;\n",
    "for i in df_test.review:\n",
    "    vec=np.zeros((300))\n",
    "    c=1;\n",
    "    for word in i.split(): \n",
    "        embedding_vector = embeddings_index.get(word)\n",
    "        #print(embedding_vector.shape)\n",
    "        if embedding_vector is not None:\n",
    "            vec+=embedding_vector\n",
    "            c+=1\n",
    "        else:\n",
    "            #print(word)\n",
    "            pass\n",
    "    x_test_f[k]=vec/c\n",
    "    k+=1\n",
    "    "
   ]
  },
  {
   "cell_type": "markdown",
   "id": "172e00ff",
   "metadata": {},
   "source": [
    "# DAN +DNN"
   ]
  },
  {
   "cell_type": "code",
   "execution_count": 73,
   "id": "f62eeee4",
   "metadata": {},
   "outputs": [],
   "source": [
    "model2=Sequential()\n",
    "model2.add(InputLayer((300)))\n",
    "model2.add(Dense(1024))\n",
    "model2.add(Dense(512))\n",
    "model2.add(Dropout(0.2))\n",
    "model2.add(Dense(256))\n",
    "model2.add(Dropout(0.2))\n",
    "model2.add(Dense(512))\n",
    "model2.add(Dense(256,activation=\"relu\"))\n",
    "model2.add(Dense(128,activation=\"relu\"))\n",
    "model2.add(Dense(5,activation=\"softmax\"))"
   ]
  },
  {
   "cell_type": "code",
   "execution_count": 74,
   "id": "1ffec3fa",
   "metadata": {},
   "outputs": [],
   "source": [
    "model2.compile(loss=\"sparse_categorical_crossentropy\",optimizer=\"adam\",metrics=\"accuracy\")"
   ]
  },
  {
   "cell_type": "code",
   "execution_count": 75,
   "id": "633d735f",
   "metadata": {},
   "outputs": [],
   "source": [
    "es=keras.callbacks.EarlyStopping(monitor='val_loss',patience=10,mode='min')"
   ]
  },
  {
   "cell_type": "code",
   "execution_count": 76,
   "id": "2084d8b8",
   "metadata": {},
   "outputs": [
    {
     "name": "stdout",
     "output_type": "stream",
     "text": [
      "Epoch 1/100\n",
      "704/704 [==============================] - 4s 5ms/step - loss: 0.5855 - accuracy: 0.6884 - val_loss: 0.4996 - val_accuracy: 0.7668\n",
      "Epoch 2/100\n",
      "704/704 [==============================] - 3s 5ms/step - loss: 0.4623 - accuracy: 0.7882 - val_loss: 0.4702 - val_accuracy: 0.7960\n",
      "Epoch 3/100\n",
      "704/704 [==============================] - 3s 5ms/step - loss: 0.4425 - accuracy: 0.8020 - val_loss: 0.5090 - val_accuracy: 0.7680\n",
      "Epoch 4/100\n",
      "704/704 [==============================] - 3s 5ms/step - loss: 0.4290 - accuracy: 0.8090 - val_loss: 0.4305 - val_accuracy: 0.8056\n",
      "Epoch 5/100\n",
      "704/704 [==============================] - 3s 5ms/step - loss: 0.4229 - accuracy: 0.8115 - val_loss: 0.4421 - val_accuracy: 0.8016\n",
      "Epoch 6/100\n",
      "704/704 [==============================] - 3s 5ms/step - loss: 0.4175 - accuracy: 0.8156 - val_loss: 0.4294 - val_accuracy: 0.8136\n",
      "Epoch 7/100\n",
      "704/704 [==============================] - 4s 5ms/step - loss: 0.4106 - accuracy: 0.8200 - val_loss: 0.4204 - val_accuracy: 0.8072\n",
      "Epoch 8/100\n",
      "704/704 [==============================] - 4s 6ms/step - loss: 0.4063 - accuracy: 0.8228 - val_loss: 0.4281 - val_accuracy: 0.8068\n",
      "Epoch 9/100\n",
      "704/704 [==============================] - 4s 6ms/step - loss: 0.4067 - accuracy: 0.8210 - val_loss: 0.4173 - val_accuracy: 0.8096\n",
      "Epoch 10/100\n",
      "704/704 [==============================] - 4s 6ms/step - loss: 0.4044 - accuracy: 0.8236 - val_loss: 0.4046 - val_accuracy: 0.8188\n",
      "Epoch 11/100\n",
      "704/704 [==============================] - 4s 5ms/step - loss: 0.4009 - accuracy: 0.8244 - val_loss: 0.4114 - val_accuracy: 0.8180\n",
      "Epoch 12/100\n",
      "704/704 [==============================] - 3s 5ms/step - loss: 0.4000 - accuracy: 0.8248 - val_loss: 0.4179 - val_accuracy: 0.8132\n",
      "Epoch 13/100\n",
      "704/704 [==============================] - 4s 5ms/step - loss: 0.4103 - accuracy: 0.8188 - val_loss: 0.4260 - val_accuracy: 0.8092\n",
      "Epoch 14/100\n",
      "704/704 [==============================] - 3s 5ms/step - loss: 0.3981 - accuracy: 0.8253 - val_loss: 0.4034 - val_accuracy: 0.8148\n",
      "Epoch 15/100\n",
      "704/704 [==============================] - 3s 5ms/step - loss: 0.3935 - accuracy: 0.8286 - val_loss: 0.4112 - val_accuracy: 0.8108\n",
      "Epoch 16/100\n",
      "704/704 [==============================] - 4s 5ms/step - loss: 0.3978 - accuracy: 0.8247 - val_loss: 0.4071 - val_accuracy: 0.8144\n",
      "Epoch 17/100\n",
      "704/704 [==============================] - 4s 5ms/step - loss: 0.3923 - accuracy: 0.8283 - val_loss: 0.4069 - val_accuracy: 0.8268\n",
      "Epoch 18/100\n",
      "704/704 [==============================] - 4s 5ms/step - loss: 0.3906 - accuracy: 0.8299 - val_loss: 0.4286 - val_accuracy: 0.8072\n",
      "Epoch 19/100\n",
      "704/704 [==============================] - 4s 5ms/step - loss: 0.3961 - accuracy: 0.8300 - val_loss: 0.4027 - val_accuracy: 0.8240\n",
      "Epoch 20/100\n",
      "704/704 [==============================] - 4s 5ms/step - loss: 0.3928 - accuracy: 0.8279 - val_loss: 0.4140 - val_accuracy: 0.8168\n",
      "Epoch 21/100\n",
      "704/704 [==============================] - 4s 5ms/step - loss: 0.3936 - accuracy: 0.8284 - val_loss: 0.4175 - val_accuracy: 0.8272\n",
      "Epoch 22/100\n",
      "704/704 [==============================] - 4s 5ms/step - loss: 0.3851 - accuracy: 0.8310 - val_loss: 0.4096 - val_accuracy: 0.8184\n",
      "Epoch 23/100\n",
      "704/704 [==============================] - 4s 5ms/step - loss: 0.3845 - accuracy: 0.8346 - val_loss: 0.3956 - val_accuracy: 0.8236\n",
      "Epoch 24/100\n",
      "704/704 [==============================] - 3s 5ms/step - loss: 0.3858 - accuracy: 0.8316 - val_loss: 0.3900 - val_accuracy: 0.8224\n",
      "Epoch 25/100\n",
      "704/704 [==============================] - 3s 5ms/step - loss: 0.3871 - accuracy: 0.8312 - val_loss: 0.3992 - val_accuracy: 0.8276\n",
      "Epoch 26/100\n",
      "704/704 [==============================] - 3s 5ms/step - loss: 0.3867 - accuracy: 0.8309 - val_loss: 0.3910 - val_accuracy: 0.8228\n",
      "Epoch 27/100\n",
      "704/704 [==============================] - 3s 5ms/step - loss: 0.3869 - accuracy: 0.8307 - val_loss: 0.4573 - val_accuracy: 0.7892\n",
      "Epoch 28/100\n",
      "704/704 [==============================] - 3s 5ms/step - loss: 0.3791 - accuracy: 0.8380 - val_loss: 0.3913 - val_accuracy: 0.8204\n",
      "Epoch 29/100\n",
      "704/704 [==============================] - 3s 5ms/step - loss: 0.3805 - accuracy: 0.8364 - val_loss: 0.3927 - val_accuracy: 0.8252\n",
      "Epoch 30/100\n",
      "704/704 [==============================] - 3s 5ms/step - loss: 0.3805 - accuracy: 0.8350 - val_loss: 0.4148 - val_accuracy: 0.8136\n",
      "Epoch 31/100\n",
      "704/704 [==============================] - 3s 5ms/step - loss: 0.3823 - accuracy: 0.8347 - val_loss: 0.3966 - val_accuracy: 0.8232\n",
      "Epoch 32/100\n",
      "704/704 [==============================] - 3s 5ms/step - loss: 0.3794 - accuracy: 0.8353 - val_loss: 0.3955 - val_accuracy: 0.8220\n",
      "Epoch 33/100\n",
      "704/704 [==============================] - 3s 5ms/step - loss: 0.3857 - accuracy: 0.8317 - val_loss: 0.3964 - val_accuracy: 0.8264\n",
      "Epoch 34/100\n",
      "704/704 [==============================] - 3s 5ms/step - loss: 0.3816 - accuracy: 0.8340 - val_loss: 0.3959 - val_accuracy: 0.8192\n"
     ]
    },
    {
     "data": {
      "text/plain": [
       "<keras.callbacks.History at 0x7f21d8304490>"
      ]
     },
     "execution_count": 76,
     "metadata": {},
     "output_type": "execute_result"
    }
   ],
   "source": [
    "model2.fit(x_train_f,df_train.lables.values,epochs=100,batch_size=32,validation_split=0.1,callbacks=[es])"
   ]
  },
  {
   "cell_type": "code",
   "execution_count": 78,
   "id": "f68076a0",
   "metadata": {},
   "outputs": [
    {
     "name": "stdout",
     "output_type": "stream",
     "text": [
      "782/782 [==============================] - 1s 2ms/step - loss: 0.3750 - accuracy: 0.8366\n"
     ]
    },
    {
     "data": {
      "text/plain": [
       "[0.37495118379592896, 0.8366400003433228]"
      ]
     },
     "execution_count": 78,
     "metadata": {},
     "output_type": "execute_result"
    }
   ],
   "source": [
    "model2.evaluate(x_test_f,df_test.lables.values)"
   ]
  },
  {
   "cell_type": "code",
   "execution_count": 105,
   "id": "c1a4e382",
   "metadata": {},
   "outputs": [],
   "source": [
    "y_pred=np.argmax(model2.predict(x_test_f),axis=1)"
   ]
  },
  {
   "cell_type": "code",
   "execution_count": 106,
   "id": "dea0d8b9",
   "metadata": {},
   "outputs": [],
   "source": [
    "pr=classification_report(df_test.lables.values,y_pred)"
   ]
  },
  {
   "cell_type": "code",
   "execution_count": 107,
   "id": "0b6a46db",
   "metadata": {},
   "outputs": [
    {
     "name": "stdout",
     "output_type": "stream",
     "text": [
      "              precision    recall  f1-score   support\n",
      "\n",
      "           0       0.87      0.79      0.83     12474\n",
      "           1       0.81      0.89      0.84     12526\n",
      "\n",
      "    accuracy                           0.84     25000\n",
      "   macro avg       0.84      0.84      0.84     25000\n",
      "weighted avg       0.84      0.84      0.84     25000\n",
      "\n"
     ]
    }
   ],
   "source": [
    "print(pr)"
   ]
  },
  {
   "cell_type": "code",
   "execution_count": 108,
   "id": "fbb1b45e",
   "metadata": {},
   "outputs": [
    {
     "data": {
      "text/plain": [
       "0.8447620495666718"
      ]
     },
     "execution_count": 108,
     "metadata": {},
     "output_type": "execute_result"
    }
   ],
   "source": [
    "f1_score(df_test.lables.values,y_pred)"
   ]
  },
  {
   "cell_type": "markdown",
   "id": "73d2c887",
   "metadata": {},
   "source": [
    "# Pretrained word2vec"
   ]
  },
  {
   "cell_type": "code",
   "execution_count": 80,
   "id": "cec8b03b",
   "metadata": {},
   "outputs": [],
   "source": [
    "# create a weight matrix for words in training docs\n",
    "from gensim import models\n",
    "\n",
    "w2v = models.KeyedVectors.load_word2vec_format('../ADL1/embeddings/GoogleNews-vectors-negative300.bin', binary=True)\n"
   ]
  },
  {
   "cell_type": "code",
   "execution_count": 85,
   "id": "2d0fd794",
   "metadata": {},
   "outputs": [],
   "source": [
    "x_train_w2v=np.zeros((len(df_train.review),300))\n",
    "k=0;\n",
    "for i in df_train.review:\n",
    "    vec=np.zeros((300))\n",
    "    c=1;\n",
    "    for word in i.split(): \n",
    "        try:\n",
    "            vec+=w2v[word]\n",
    "            c+=1\n",
    "        except:\n",
    "            #print(word)\n",
    "            pass\n",
    "    x_train_w2v[k]=vec/c\n",
    "    k+=1"
   ]
  },
  {
   "cell_type": "code",
   "execution_count": 87,
   "id": "3c8c96c8",
   "metadata": {},
   "outputs": [],
   "source": [
    "x_test_w2v=np.zeros((len(df_test.review),300))\n",
    "k=0;\n",
    "for i in df_test.review:\n",
    "    vec=np.zeros((300))\n",
    "    c=1;\n",
    "    for word in i.split(): \n",
    "        try:\n",
    "            vec+=w2v[word]\n",
    "            c+=1\n",
    "        except:\n",
    "            #print(word)\n",
    "            pass\n",
    "    x_test_w2v[k]=vec/c\n",
    "    k+=1\n",
    "    "
   ]
  },
  {
   "cell_type": "code",
   "execution_count": 89,
   "id": "78484e5a",
   "metadata": {},
   "outputs": [],
   "source": [
    "model3=Sequential()\n",
    "model3.add(InputLayer((300)))\n",
    "model3.add(Dense(1024))\n",
    "model3.add(Dense(512))\n",
    "model3.add(Dropout(0.2))\n",
    "model3.add(Dense(256))\n",
    "model3.add(Dropout(0.2))\n",
    "model3.add(Dense(512))\n",
    "model3.add(Dense(256,activation=\"relu\"))\n",
    "model3.add(Dense(128,activation=\"relu\"))\n",
    "model3.add(Dense(5,activation=\"softmax\"))"
   ]
  },
  {
   "cell_type": "code",
   "execution_count": 90,
   "id": "51230dbe",
   "metadata": {},
   "outputs": [],
   "source": [
    "model3.compile(loss=\"sparse_categorical_crossentropy\",optimizer=\"adam\",metrics=\"accuracy\")"
   ]
  },
  {
   "cell_type": "code",
   "execution_count": 91,
   "id": "c79d3e6e",
   "metadata": {},
   "outputs": [],
   "source": [
    "es=keras.callbacks.EarlyStopping(monitor='val_loss',patience=10,mode='min')"
   ]
  },
  {
   "cell_type": "code",
   "execution_count": 92,
   "id": "8e97cd95",
   "metadata": {},
   "outputs": [
    {
     "name": "stdout",
     "output_type": "stream",
     "text": [
      "Epoch 1/100\n",
      "704/704 [==============================] - 5s 6ms/step - loss: 0.4330 - accuracy: 0.8005 - val_loss: 0.3870 - val_accuracy: 0.8380\n",
      "Epoch 2/100\n",
      "704/704 [==============================] - 4s 5ms/step - loss: 0.3762 - accuracy: 0.8404 - val_loss: 0.3664 - val_accuracy: 0.8376\n",
      "Epoch 3/100\n",
      "704/704 [==============================] - 3s 5ms/step - loss: 0.3674 - accuracy: 0.8466 - val_loss: 0.3944 - val_accuracy: 0.8188\n",
      "Epoch 4/100\n",
      "704/704 [==============================] - 4s 5ms/step - loss: 0.3672 - accuracy: 0.8469 - val_loss: 0.3797 - val_accuracy: 0.8312\n",
      "Epoch 5/100\n",
      "704/704 [==============================] - 4s 6ms/step - loss: 0.3580 - accuracy: 0.8493 - val_loss: 0.3635 - val_accuracy: 0.8464\n",
      "Epoch 6/100\n",
      "704/704 [==============================] - 4s 6ms/step - loss: 0.3562 - accuracy: 0.8500 - val_loss: 0.3668 - val_accuracy: 0.8420\n",
      "Epoch 7/100\n",
      "704/704 [==============================] - 4s 5ms/step - loss: 0.3526 - accuracy: 0.8520 - val_loss: 0.3714 - val_accuracy: 0.8476\n",
      "Epoch 8/100\n",
      "704/704 [==============================] - 3s 5ms/step - loss: 0.3475 - accuracy: 0.8555 - val_loss: 0.3927 - val_accuracy: 0.8332\n",
      "Epoch 9/100\n",
      "704/704 [==============================] - 4s 5ms/step - loss: 0.3511 - accuracy: 0.8524 - val_loss: 0.3603 - val_accuracy: 0.8416\n",
      "Epoch 10/100\n",
      "704/704 [==============================] - 4s 5ms/step - loss: 0.3449 - accuracy: 0.8538 - val_loss: 0.3591 - val_accuracy: 0.8360\n",
      "Epoch 11/100\n",
      "704/704 [==============================] - 4s 5ms/step - loss: 0.3480 - accuracy: 0.8543 - val_loss: 0.3663 - val_accuracy: 0.8460\n",
      "Epoch 12/100\n",
      "704/704 [==============================] - 3s 5ms/step - loss: 0.3465 - accuracy: 0.8547 - val_loss: 0.3605 - val_accuracy: 0.8480\n",
      "Epoch 13/100\n",
      "704/704 [==============================] - 4s 5ms/step - loss: 0.3397 - accuracy: 0.8583 - val_loss: 0.3551 - val_accuracy: 0.8444\n",
      "Epoch 14/100\n",
      "704/704 [==============================] - 3s 5ms/step - loss: 0.3445 - accuracy: 0.8568 - val_loss: 0.3888 - val_accuracy: 0.8408\n",
      "Epoch 15/100\n",
      "704/704 [==============================] - 4s 5ms/step - loss: 0.3381 - accuracy: 0.8584 - val_loss: 0.3556 - val_accuracy: 0.8480\n",
      "Epoch 16/100\n",
      "704/704 [==============================] - 3s 5ms/step - loss: 0.3380 - accuracy: 0.8593 - val_loss: 0.3556 - val_accuracy: 0.8412\n",
      "Epoch 17/100\n",
      "704/704 [==============================] - 3s 5ms/step - loss: 0.3397 - accuracy: 0.8586 - val_loss: 0.3864 - val_accuracy: 0.8200\n",
      "Epoch 18/100\n",
      "704/704 [==============================] - 4s 5ms/step - loss: 0.3464 - accuracy: 0.8531 - val_loss: 0.3646 - val_accuracy: 0.8364\n",
      "Epoch 19/100\n",
      "704/704 [==============================] - 4s 5ms/step - loss: 0.3403 - accuracy: 0.8569 - val_loss: 0.3801 - val_accuracy: 0.8452\n",
      "Epoch 20/100\n",
      "704/704 [==============================] - 4s 5ms/step - loss: 0.3397 - accuracy: 0.8580 - val_loss: 0.3516 - val_accuracy: 0.8460\n",
      "Epoch 21/100\n",
      "704/704 [==============================] - 4s 5ms/step - loss: 0.3372 - accuracy: 0.8579 - val_loss: 0.3648 - val_accuracy: 0.8340\n",
      "Epoch 22/100\n",
      "704/704 [==============================] - 4s 5ms/step - loss: 0.3341 - accuracy: 0.8600 - val_loss: 0.3648 - val_accuracy: 0.8448\n",
      "Epoch 23/100\n",
      "704/704 [==============================] - 4s 6ms/step - loss: 0.3429 - accuracy: 0.8577 - val_loss: 0.3542 - val_accuracy: 0.8472\n",
      "Epoch 24/100\n",
      "704/704 [==============================] - 4s 6ms/step - loss: 0.3371 - accuracy: 0.8578 - val_loss: 0.3522 - val_accuracy: 0.8484\n",
      "Epoch 25/100\n",
      "704/704 [==============================] - 4s 6ms/step - loss: 0.3379 - accuracy: 0.8590 - val_loss: 0.3908 - val_accuracy: 0.8292\n",
      "Epoch 26/100\n",
      "704/704 [==============================] - 4s 6ms/step - loss: 0.3361 - accuracy: 0.8591 - val_loss: 0.3563 - val_accuracy: 0.8432\n",
      "Epoch 27/100\n",
      "704/704 [==============================] - 4s 6ms/step - loss: 0.3336 - accuracy: 0.8616 - val_loss: 0.3614 - val_accuracy: 0.8428\n",
      "Epoch 28/100\n",
      "704/704 [==============================] - 4s 6ms/step - loss: 0.3415 - accuracy: 0.8587 - val_loss: 0.5962 - val_accuracy: 0.6560\n",
      "Epoch 29/100\n",
      "704/704 [==============================] - 4s 6ms/step - loss: 0.4408 - accuracy: 0.8254 - val_loss: 0.7752 - val_accuracy: 0.7596\n",
      "Epoch 30/100\n",
      "704/704 [==============================] - 4s 5ms/step - loss: 0.4674 - accuracy: 0.7767 - val_loss: 0.3550 - val_accuracy: 0.8488\n"
     ]
    },
    {
     "data": {
      "text/plain": [
       "<keras.callbacks.History at 0x7f23feb53310>"
      ]
     },
     "execution_count": 92,
     "metadata": {},
     "output_type": "execute_result"
    }
   ],
   "source": [
    "model3.fit(x_train_w2v,df_train.lables.values,epochs=100,batch_size=32,validation_split=0.1,callbacks=[es])"
   ]
  },
  {
   "cell_type": "code",
   "execution_count": 94,
   "id": "f94c6e41",
   "metadata": {},
   "outputs": [
    {
     "name": "stdout",
     "output_type": "stream",
     "text": [
      "782/782 [==============================] - 2s 2ms/step - loss: 0.3398 - accuracy: 0.8567\n"
     ]
    },
    {
     "data": {
      "text/plain": [
       "[0.3398231565952301, 0.8566799759864807]"
      ]
     },
     "execution_count": 94,
     "metadata": {},
     "output_type": "execute_result"
    }
   ],
   "source": [
    "model3.evaluate(x_test_w2v,df_test.lables.values)"
   ]
  },
  {
   "cell_type": "code",
   "execution_count": 109,
   "id": "2bfad771",
   "metadata": {},
   "outputs": [],
   "source": [
    "y_pred=np.argmax(model3.predict(x_test_w2v),axis=1)"
   ]
  },
  {
   "cell_type": "code",
   "execution_count": 110,
   "id": "f3317cf5",
   "metadata": {},
   "outputs": [
    {
     "data": {
      "text/plain": [
       "0.8592860228566941"
      ]
     },
     "execution_count": 110,
     "metadata": {},
     "output_type": "execute_result"
    }
   ],
   "source": [
    "f1_score(df_test.lables.values,y_pred)"
   ]
  },
  {
   "cell_type": "code",
   "execution_count": null,
   "id": "907cae4a",
   "metadata": {},
   "outputs": [],
   "source": []
  }
 ],
 "metadata": {
  "kernelspec": {
   "display_name": "Python 3 (ipykernel)",
   "language": "python",
   "name": "python3"
  },
  "language_info": {
   "codemirror_mode": {
    "name": "ipython",
    "version": 3
   },
   "file_extension": ".py",
   "mimetype": "text/x-python",
   "name": "python",
   "nbconvert_exporter": "python",
   "pygments_lexer": "ipython3",
   "version": "3.8.10"
  }
 },
 "nbformat": 4,
 "nbformat_minor": 5
}
