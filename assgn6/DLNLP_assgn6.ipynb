{
  "nbformat": 4,
  "nbformat_minor": 5,
  "metadata": {
    "accelerator": "GPU",
    "colab": {
      "name": "DLNLP_assgn6.ipynb",
      "provenance": []
    },
    "kernelspec": {
      "display_name": "Python 3",
      "language": "python",
      "name": "python3"
    },
    "language_info": {
      "codemirror_mode": {
        "name": "ipython",
        "version": 3
      },
      "file_extension": ".py",
      "mimetype": "text/x-python",
      "name": "python",
      "nbconvert_exporter": "python",
      "pygments_lexer": "ipython3",
      "version": "3.8.10"
    }
  },
  "cells": [
    {
      "cell_type": "markdown",
      "metadata": {
        "id": "7e3fe54c"
      },
      "source": [
        "# Importing Libraries"
      ],
      "id": "7e3fe54c"
    },
    {
      "cell_type": "code",
      "metadata": {
        "id": "b769e80e"
      },
      "source": [
        "import pandas as pd\n",
        "import csv\n",
        "import tensorflow as tf\n",
        "from tensorflow import keras\n",
        "from tensorflow.keras.models import *\n",
        "from tensorflow.keras.layers import *"
      ],
      "id": "b769e80e",
      "execution_count": 189,
      "outputs": []
    },
    {
      "cell_type": "code",
      "metadata": {
        "colab": {
          "base_uri": "https://localhost:8080/"
        },
        "id": "Ih7SnhVa8xf7",
        "outputId": "2249ca05-dc1f-4b5c-e8a5-2935c524216f"
      },
      "source": [
        "!pip install contractions"
      ],
      "id": "Ih7SnhVa8xf7",
      "execution_count": 190,
      "outputs": [
        {
          "output_type": "stream",
          "name": "stdout",
          "text": [
            "Requirement already satisfied: contractions in /usr/local/lib/python3.7/dist-packages (0.0.52)\n",
            "Requirement already satisfied: textsearch>=0.0.21 in /usr/local/lib/python3.7/dist-packages (from contractions) (0.0.21)\n",
            "Requirement already satisfied: anyascii in /usr/local/lib/python3.7/dist-packages (from textsearch>=0.0.21->contractions) (0.3.0)\n",
            "Requirement already satisfied: pyahocorasick in /usr/local/lib/python3.7/dist-packages (from textsearch>=0.0.21->contractions) (1.4.2)\n"
          ]
        }
      ]
    },
    {
      "cell_type": "code",
      "metadata": {
        "id": "7b64e8e7"
      },
      "source": [
        "import os\n",
        "import numpy as np\n",
        "import contractions as ctc\n",
        "import re"
      ],
      "id": "7b64e8e7",
      "execution_count": 191,
      "outputs": []
    },
    {
      "cell_type": "code",
      "metadata": {
        "id": "3043cb8e"
      },
      "source": [
        "from tensorflow.keras import models,layers\n",
        "import tensorflow.keras.backend as K\n",
        "from matplotlib import pyplot as plt\n",
        "from tensorflow.keras.models import load_model"
      ],
      "id": "3043cb8e",
      "execution_count": 192,
      "outputs": []
    },
    {
      "cell_type": "code",
      "metadata": {
        "id": "fAX6IaMXTvZh"
      },
      "source": [
        ""
      ],
      "id": "fAX6IaMXTvZh",
      "execution_count": 192,
      "outputs": []
    },
    {
      "cell_type": "code",
      "metadata": {
        "id": "ZmrYMqwTTv8B"
      },
      "source": [
        "from sklearn.metrics import f1_score"
      ],
      "id": "ZmrYMqwTTv8B",
      "execution_count": 193,
      "outputs": []
    },
    {
      "cell_type": "code",
      "metadata": {
        "colab": {
          "base_uri": "https://localhost:8080/"
        },
        "id": "zYJFmJJi8ncy",
        "outputId": "9d37d046-539b-47f1-e21c-400307a351f6"
      },
      "source": [
        "from google.colab import drive\n",
        "drive.mount('/content/drive')"
      ],
      "id": "zYJFmJJi8ncy",
      "execution_count": 194,
      "outputs": [
        {
          "output_type": "stream",
          "name": "stdout",
          "text": [
            "Drive already mounted at /content/drive; to attempt to forcibly remount, call drive.mount(\"/content/drive\", force_remount=True).\n"
          ]
        }
      ]
    },
    {
      "cell_type": "markdown",
      "metadata": {
        "id": "9439c30f"
      },
      "source": [
        "# Loading data and preprocessing"
      ],
      "id": "9439c30f"
    },
    {
      "cell_type": "code",
      "metadata": {
        "id": "72aa84d2"
      },
      "source": [
        "df_train=pd.read_csv(\"/content/drive/MyDrive/Colab Notebooks/DATASETS/ADL_PROJECT1/snli_1.0/snli_1.0_train.txt\",sep=\"\\t\",na_filter=False,usecols=[\"gold_label\",\"sentence1\",\"sentence2\"])"
      ],
      "id": "72aa84d2",
      "execution_count": 195,
      "outputs": []
    },
    {
      "cell_type": "code",
      "metadata": {
        "colab": {
          "base_uri": "https://localhost:8080/",
          "height": 204
        },
        "id": "8a989d6b",
        "outputId": "b6e31908-cb1c-4fd9-9960-4885c2f7469f"
      },
      "source": [
        "df_train.head()"
      ],
      "id": "8a989d6b",
      "execution_count": 196,
      "outputs": [
        {
          "output_type": "execute_result",
          "data": {
            "text/html": [
              "<div>\n",
              "<style scoped>\n",
              "    .dataframe tbody tr th:only-of-type {\n",
              "        vertical-align: middle;\n",
              "    }\n",
              "\n",
              "    .dataframe tbody tr th {\n",
              "        vertical-align: top;\n",
              "    }\n",
              "\n",
              "    .dataframe thead th {\n",
              "        text-align: right;\n",
              "    }\n",
              "</style>\n",
              "<table border=\"1\" class=\"dataframe\">\n",
              "  <thead>\n",
              "    <tr style=\"text-align: right;\">\n",
              "      <th></th>\n",
              "      <th>gold_label</th>\n",
              "      <th>sentence1</th>\n",
              "      <th>sentence2</th>\n",
              "    </tr>\n",
              "  </thead>\n",
              "  <tbody>\n",
              "    <tr>\n",
              "      <th>0</th>\n",
              "      <td>neutral</td>\n",
              "      <td>A person on a horse jumps over a broken down a...</td>\n",
              "      <td>A person is training his horse for a competition.</td>\n",
              "    </tr>\n",
              "    <tr>\n",
              "      <th>1</th>\n",
              "      <td>contradiction</td>\n",
              "      <td>A person on a horse jumps over a broken down a...</td>\n",
              "      <td>A person is at a diner, ordering an omelette.</td>\n",
              "    </tr>\n",
              "    <tr>\n",
              "      <th>2</th>\n",
              "      <td>entailment</td>\n",
              "      <td>A person on a horse jumps over a broken down a...</td>\n",
              "      <td>A person is outdoors, on a horse.</td>\n",
              "    </tr>\n",
              "    <tr>\n",
              "      <th>3</th>\n",
              "      <td>neutral</td>\n",
              "      <td>Children smiling and waving at camera</td>\n",
              "      <td>They are smiling at their parents</td>\n",
              "    </tr>\n",
              "    <tr>\n",
              "      <th>4</th>\n",
              "      <td>entailment</td>\n",
              "      <td>Children smiling and waving at camera</td>\n",
              "      <td>There are children present</td>\n",
              "    </tr>\n",
              "  </tbody>\n",
              "</table>\n",
              "</div>"
            ],
            "text/plain": [
              "      gold_label  ...                                          sentence2\n",
              "0        neutral  ...  A person is training his horse for a competition.\n",
              "1  contradiction  ...      A person is at a diner, ordering an omelette.\n",
              "2     entailment  ...                  A person is outdoors, on a horse.\n",
              "3        neutral  ...                  They are smiling at their parents\n",
              "4     entailment  ...                         There are children present\n",
              "\n",
              "[5 rows x 3 columns]"
            ]
          },
          "metadata": {},
          "execution_count": 196
        }
      ]
    },
    {
      "cell_type": "code",
      "metadata": {
        "id": "Pniy2Ul6JYdk"
      },
      "source": [
        "df_train=df_train[df_train['gold_label']!='-']"
      ],
      "id": "Pniy2Ul6JYdk",
      "execution_count": 197,
      "outputs": []
    },
    {
      "cell_type": "code",
      "metadata": {
        "colab": {
          "base_uri": "https://localhost:8080/"
        },
        "id": "pXnifOglHaHy",
        "outputId": "5a95946b-5420-47f3-bf0b-6983d271706a"
      },
      "source": [
        "df_train.gold_label.unique()"
      ],
      "id": "pXnifOglHaHy",
      "execution_count": 198,
      "outputs": [
        {
          "output_type": "execute_result",
          "data": {
            "text/plain": [
              "array(['neutral', 'contradiction', 'entailment'], dtype=object)"
            ]
          },
          "metadata": {},
          "execution_count": 198
        }
      ]
    },
    {
      "cell_type": "code",
      "metadata": {
        "id": "uiuQl2YHMJ0x"
      },
      "source": [
        "labels={'neutral':0,'contradiction':0,'entailment':1}"
      ],
      "id": "uiuQl2YHMJ0x",
      "execution_count": 199,
      "outputs": []
    },
    {
      "cell_type": "code",
      "metadata": {
        "id": "mq53mCh4M2cE"
      },
      "source": [
        "df_train[\"labels\"]=df_train[\"gold_label\"].map(labels)"
      ],
      "id": "mq53mCh4M2cE",
      "execution_count": 200,
      "outputs": []
    },
    {
      "cell_type": "code",
      "metadata": {
        "colab": {
          "base_uri": "https://localhost:8080/",
          "height": 204
        },
        "id": "_2AFJqEtNUi6",
        "outputId": "de453fdf-4e22-463e-bc99-62768ff5fc7f"
      },
      "source": [
        "df_train.head()"
      ],
      "id": "_2AFJqEtNUi6",
      "execution_count": 201,
      "outputs": [
        {
          "output_type": "execute_result",
          "data": {
            "text/html": [
              "<div>\n",
              "<style scoped>\n",
              "    .dataframe tbody tr th:only-of-type {\n",
              "        vertical-align: middle;\n",
              "    }\n",
              "\n",
              "    .dataframe tbody tr th {\n",
              "        vertical-align: top;\n",
              "    }\n",
              "\n",
              "    .dataframe thead th {\n",
              "        text-align: right;\n",
              "    }\n",
              "</style>\n",
              "<table border=\"1\" class=\"dataframe\">\n",
              "  <thead>\n",
              "    <tr style=\"text-align: right;\">\n",
              "      <th></th>\n",
              "      <th>gold_label</th>\n",
              "      <th>sentence1</th>\n",
              "      <th>sentence2</th>\n",
              "      <th>labels</th>\n",
              "    </tr>\n",
              "  </thead>\n",
              "  <tbody>\n",
              "    <tr>\n",
              "      <th>0</th>\n",
              "      <td>neutral</td>\n",
              "      <td>A person on a horse jumps over a broken down a...</td>\n",
              "      <td>A person is training his horse for a competition.</td>\n",
              "      <td>0</td>\n",
              "    </tr>\n",
              "    <tr>\n",
              "      <th>1</th>\n",
              "      <td>contradiction</td>\n",
              "      <td>A person on a horse jumps over a broken down a...</td>\n",
              "      <td>A person is at a diner, ordering an omelette.</td>\n",
              "      <td>0</td>\n",
              "    </tr>\n",
              "    <tr>\n",
              "      <th>2</th>\n",
              "      <td>entailment</td>\n",
              "      <td>A person on a horse jumps over a broken down a...</td>\n",
              "      <td>A person is outdoors, on a horse.</td>\n",
              "      <td>1</td>\n",
              "    </tr>\n",
              "    <tr>\n",
              "      <th>3</th>\n",
              "      <td>neutral</td>\n",
              "      <td>Children smiling and waving at camera</td>\n",
              "      <td>They are smiling at their parents</td>\n",
              "      <td>0</td>\n",
              "    </tr>\n",
              "    <tr>\n",
              "      <th>4</th>\n",
              "      <td>entailment</td>\n",
              "      <td>Children smiling and waving at camera</td>\n",
              "      <td>There are children present</td>\n",
              "      <td>1</td>\n",
              "    </tr>\n",
              "  </tbody>\n",
              "</table>\n",
              "</div>"
            ],
            "text/plain": [
              "      gold_label  ... labels\n",
              "0        neutral  ...      0\n",
              "1  contradiction  ...      0\n",
              "2     entailment  ...      1\n",
              "3        neutral  ...      0\n",
              "4     entailment  ...      1\n",
              "\n",
              "[5 rows x 4 columns]"
            ]
          },
          "metadata": {},
          "execution_count": 201
        }
      ]
    },
    {
      "cell_type": "code",
      "metadata": {
        "colab": {
          "base_uri": "https://localhost:8080/"
        },
        "id": "zoVzyqRXIwET",
        "outputId": "3baf6d7d-3173-4500-cfe1-148f3d8dedde"
      },
      "source": [
        "df_train.shape"
      ],
      "id": "zoVzyqRXIwET",
      "execution_count": 202,
      "outputs": [
        {
          "output_type": "execute_result",
          "data": {
            "text/plain": [
              "(549367, 4)"
            ]
          },
          "metadata": {},
          "execution_count": 202
        }
      ]
    },
    {
      "cell_type": "code",
      "metadata": {
        "colab": {
          "base_uri": "https://localhost:8080/",
          "height": 35
        },
        "id": "d12cef64",
        "outputId": "a024ee0e-5c58-4768-f083-e415ab66cd15"
      },
      "source": [
        "df_train.sentence1[0]"
      ],
      "id": "d12cef64",
      "execution_count": 203,
      "outputs": [
        {
          "output_type": "execute_result",
          "data": {
            "application/vnd.google.colaboratory.intrinsic+json": {
              "type": "string"
            },
            "text/plain": [
              "'A person on a horse jumps over a broken down airplane.'"
            ]
          },
          "metadata": {},
          "execution_count": 203
        }
      ]
    },
    {
      "cell_type": "code",
      "metadata": {
        "id": "f1a5e3b1"
      },
      "source": [
        "df_test=pd.read_csv(\"/content/drive/MyDrive/Colab Notebooks/DATASETS/ADL_PROJECT1/snli_1.0/snli_1.0_test.txt\",sep=\"\\t\",na_filter=False,usecols=[\"gold_label\",\"sentence1\",\"sentence2\"])"
      ],
      "id": "f1a5e3b1",
      "execution_count": 204,
      "outputs": []
    },
    {
      "cell_type": "code",
      "metadata": {
        "id": "KImSCzwhKD5l"
      },
      "source": [
        "df_test=df_test[df_test['gold_label']!='-']"
      ],
      "id": "KImSCzwhKD5l",
      "execution_count": 205,
      "outputs": []
    },
    {
      "cell_type": "code",
      "metadata": {
        "colab": {
          "base_uri": "https://localhost:8080/"
        },
        "id": "SuF_ivUgJ7yY",
        "outputId": "3520db9c-e7bf-4e2c-9aa1-dd25cafcae61"
      },
      "source": [
        "df_test.gold_label.unique()"
      ],
      "id": "SuF_ivUgJ7yY",
      "execution_count": 206,
      "outputs": [
        {
          "output_type": "execute_result",
          "data": {
            "text/plain": [
              "array(['neutral', 'entailment', 'contradiction'], dtype=object)"
            ]
          },
          "metadata": {},
          "execution_count": 206
        }
      ]
    },
    {
      "cell_type": "code",
      "metadata": {
        "id": "UZMoAhVDNfrl"
      },
      "source": [
        "df_test[\"labels\"]=df_test[\"gold_label\"].map(labels)"
      ],
      "id": "UZMoAhVDNfrl",
      "execution_count": 207,
      "outputs": []
    },
    {
      "cell_type": "code",
      "metadata": {
        "colab": {
          "base_uri": "https://localhost:8080/",
          "height": 204
        },
        "id": "baa19023",
        "outputId": "c5c06d5d-b5c8-4466-bc54-46aa73515cf8"
      },
      "source": [
        "df_test.head()"
      ],
      "id": "baa19023",
      "execution_count": 208,
      "outputs": [
        {
          "output_type": "execute_result",
          "data": {
            "text/html": [
              "<div>\n",
              "<style scoped>\n",
              "    .dataframe tbody tr th:only-of-type {\n",
              "        vertical-align: middle;\n",
              "    }\n",
              "\n",
              "    .dataframe tbody tr th {\n",
              "        vertical-align: top;\n",
              "    }\n",
              "\n",
              "    .dataframe thead th {\n",
              "        text-align: right;\n",
              "    }\n",
              "</style>\n",
              "<table border=\"1\" class=\"dataframe\">\n",
              "  <thead>\n",
              "    <tr style=\"text-align: right;\">\n",
              "      <th></th>\n",
              "      <th>gold_label</th>\n",
              "      <th>sentence1</th>\n",
              "      <th>sentence2</th>\n",
              "      <th>labels</th>\n",
              "    </tr>\n",
              "  </thead>\n",
              "  <tbody>\n",
              "    <tr>\n",
              "      <th>0</th>\n",
              "      <td>neutral</td>\n",
              "      <td>This church choir sings to the masses as they ...</td>\n",
              "      <td>The church has cracks in the ceiling.</td>\n",
              "      <td>0</td>\n",
              "    </tr>\n",
              "    <tr>\n",
              "      <th>1</th>\n",
              "      <td>entailment</td>\n",
              "      <td>This church choir sings to the masses as they ...</td>\n",
              "      <td>The church is filled with song.</td>\n",
              "      <td>1</td>\n",
              "    </tr>\n",
              "    <tr>\n",
              "      <th>2</th>\n",
              "      <td>contradiction</td>\n",
              "      <td>This church choir sings to the masses as they ...</td>\n",
              "      <td>A choir singing at a baseball game.</td>\n",
              "      <td>0</td>\n",
              "    </tr>\n",
              "    <tr>\n",
              "      <th>3</th>\n",
              "      <td>neutral</td>\n",
              "      <td>A woman with a green headscarf, blue shirt and...</td>\n",
              "      <td>The woman is young.</td>\n",
              "      <td>0</td>\n",
              "    </tr>\n",
              "    <tr>\n",
              "      <th>4</th>\n",
              "      <td>entailment</td>\n",
              "      <td>A woman with a green headscarf, blue shirt and...</td>\n",
              "      <td>The woman is very happy.</td>\n",
              "      <td>1</td>\n",
              "    </tr>\n",
              "  </tbody>\n",
              "</table>\n",
              "</div>"
            ],
            "text/plain": [
              "      gold_label  ... labels\n",
              "0        neutral  ...      0\n",
              "1     entailment  ...      1\n",
              "2  contradiction  ...      0\n",
              "3        neutral  ...      0\n",
              "4     entailment  ...      1\n",
              "\n",
              "[5 rows x 4 columns]"
            ]
          },
          "metadata": {},
          "execution_count": 208
        }
      ]
    },
    {
      "cell_type": "code",
      "metadata": {
        "id": "adf5474d"
      },
      "source": [
        "df_val=pd.read_csv(\"/content/drive/MyDrive/Colab Notebooks/DATASETS/ADL_PROJECT1/snli_1.0/snli_1.0_dev.txt\",sep=\"\\t\",na_filter=False,usecols=[\"gold_label\",\"sentence1\",\"sentence2\"])"
      ],
      "id": "adf5474d",
      "execution_count": 209,
      "outputs": []
    },
    {
      "cell_type": "code",
      "metadata": {
        "id": "MHrSIqbFKSVT"
      },
      "source": [
        "df_val=df_val[df_val['gold_label']!='-']"
      ],
      "id": "MHrSIqbFKSVT",
      "execution_count": 210,
      "outputs": []
    },
    {
      "cell_type": "code",
      "metadata": {
        "colab": {
          "base_uri": "https://localhost:8080/"
        },
        "id": "Yj90ylmlKMt3",
        "outputId": "2c876775-ff57-42ea-ae95-703eb0555750"
      },
      "source": [
        "df_val.gold_label.unique()"
      ],
      "id": "Yj90ylmlKMt3",
      "execution_count": 211,
      "outputs": [
        {
          "output_type": "execute_result",
          "data": {
            "text/plain": [
              "array(['neutral', 'entailment', 'contradiction'], dtype=object)"
            ]
          },
          "metadata": {},
          "execution_count": 211
        }
      ]
    },
    {
      "cell_type": "code",
      "metadata": {
        "id": "KtXTTuv0NmKL"
      },
      "source": [
        "df_val[\"labels\"]=df_val[\"gold_label\"].map(labels)"
      ],
      "id": "KtXTTuv0NmKL",
      "execution_count": 212,
      "outputs": []
    },
    {
      "cell_type": "code",
      "metadata": {
        "colab": {
          "base_uri": "https://localhost:8080/"
        },
        "id": "Ax9YB5c6KRca",
        "outputId": "2d7b12d5-4f20-4c5a-9396-4a5cdb6f346b"
      },
      "source": [
        "df_val.shape"
      ],
      "id": "Ax9YB5c6KRca",
      "execution_count": 213,
      "outputs": [
        {
          "output_type": "execute_result",
          "data": {
            "text/plain": [
              "(9842, 4)"
            ]
          },
          "metadata": {},
          "execution_count": 213
        }
      ]
    },
    {
      "cell_type": "code",
      "metadata": {
        "colab": {
          "base_uri": "https://localhost:8080/"
        },
        "id": "d64b0adb",
        "outputId": "3eebf0d0-10b0-4e4d-9d7f-ae32a45ea3bb"
      },
      "source": [
        "df_val.sentence2[1:12]"
      ],
      "id": "d64b0adb",
      "execution_count": 214,
      "outputs": [
        {
          "output_type": "execute_result",
          "data": {
            "text/plain": [
              "1                       Two woman are holding packages.\n",
              "2                  The men are fighting outside a deli.\n",
              "3        Two kids in numbered jerseys wash their hands.\n",
              "4              Two kids at a ballgame wash their hands.\n",
              "5                   Two kids in jackets walk to school.\n",
              "6            A woman drinks her coffee in a small cafe.\n",
              "7     A man selling donuts to a customer during a wo...\n",
              "8                   A man selling donuts to a customer.\n",
              "9                                    boys play football\n",
              "10                                 dog eats out of bowl\n",
              "11                             boys scoring a touchdown\n",
              "Name: sentence2, dtype: object"
            ]
          },
          "metadata": {},
          "execution_count": 214
        }
      ]
    },
    {
      "cell_type": "code",
      "metadata": {
        "id": "e04e7ed5"
      },
      "source": [
        "## Putting space b/w Special Characters\n",
        "def is_special(text):\n",
        "    rem = ''\n",
        "    for i in text: \n",
        "        if i.isalnum():\n",
        "            rem = rem + i\n",
        "        else:\n",
        "            rem = rem + ' '\n",
        "            rem=rem+i\n",
        "            rem = rem + ' '\n",
        "    return rem"
      ],
      "id": "e04e7ed5",
      "execution_count": 215,
      "outputs": []
    },
    {
      "cell_type": "code",
      "metadata": {
        "id": "58ceb38e"
      },
      "source": [
        "## removing extra spsces from text\n",
        "def rem_extra(text):\n",
        "    rem=re.sub(' +', ' ',text)\n",
        "    return str(rem).strip()"
      ],
      "id": "58ceb38e",
      "execution_count": 216,
      "outputs": []
    },
    {
      "cell_type": "code",
      "metadata": {
        "id": "d6338f27"
      },
      "source": [
        "def contraction_fix(text):\n",
        "    return ctc.fix(text)"
      ],
      "id": "d6338f27",
      "execution_count": 217,
      "outputs": []
    },
    {
      "cell_type": "code",
      "metadata": {
        "id": "a2e8f42a"
      },
      "source": [
        "def lower1(text):\n",
        "    return text.lower()"
      ],
      "id": "a2e8f42a",
      "execution_count": 218,
      "outputs": []
    },
    {
      "cell_type": "code",
      "metadata": {
        "id": "7ad92ec1"
      },
      "source": [
        "## Calculate max word in Text cell\n",
        "def get_max_length1(df):\n",
        "    max_length = 0\n",
        "    for row in df['sentence1']:\n",
        "        if len(row.split(\" \")) > max_length:\n",
        "            max_length = len(row.split(\" \"))\n",
        "    return max_length"
      ],
      "id": "7ad92ec1",
      "execution_count": 219,
      "outputs": []
    },
    {
      "cell_type": "code",
      "metadata": {
        "id": "be5480e2"
      },
      "source": [
        "## Calculate max word in Text cell\n",
        "def get_max_length2(df):\n",
        "    max_length = 0\n",
        "    for row in df['sentence2']:\n",
        "        if len(row.split(\" \")) > max_length:\n",
        "            max_length = len(row.split(\" \"))\n",
        "    return max_length"
      ],
      "id": "be5480e2",
      "execution_count": 220,
      "outputs": []
    },
    {
      "cell_type": "code",
      "metadata": {
        "id": "86b65ae9"
      },
      "source": [
        "## expanding contraction \n",
        "df_train.sentence1=df_train.sentence1.apply(contraction_fix)\n",
        "df_train.sentence2=df_train.sentence2.apply(contraction_fix)"
      ],
      "id": "86b65ae9",
      "execution_count": 221,
      "outputs": []
    },
    {
      "cell_type": "code",
      "metadata": {
        "id": "826428b8"
      },
      "source": [
        "df_train.sentence1=df_train.sentence1.apply(is_special)\n",
        "df_train.sentence2=df_train.sentence2.apply(is_special)"
      ],
      "id": "826428b8",
      "execution_count": 222,
      "outputs": []
    },
    {
      "cell_type": "code",
      "metadata": {
        "id": "c99f5e88"
      },
      "source": [
        "df_train.sentence1=df_train.sentence1.apply(rem_extra)\n",
        "df_train.sentence2=df_train.sentence2.apply(rem_extra)"
      ],
      "id": "c99f5e88",
      "execution_count": 223,
      "outputs": []
    },
    {
      "cell_type": "code",
      "metadata": {
        "id": "c88b983e"
      },
      "source": [
        "df_train.sentence1=df_train.sentence1.apply(lower1)\n",
        "df_train.sentence2=df_train.sentence2.apply(lower1)"
      ],
      "id": "c88b983e",
      "execution_count": 224,
      "outputs": []
    },
    {
      "cell_type": "code",
      "metadata": {
        "colab": {
          "base_uri": "https://localhost:8080/",
          "height": 0
        },
        "id": "59fad9e0",
        "outputId": "dc934a8a-7ec7-4975-c700-e1102110a50e"
      },
      "source": [
        "df_train.sentence1[1]"
      ],
      "id": "59fad9e0",
      "execution_count": 225,
      "outputs": [
        {
          "output_type": "execute_result",
          "data": {
            "application/vnd.google.colaboratory.intrinsic+json": {
              "type": "string"
            },
            "text/plain": [
              "'a person on a horse jumps over a broken down airplane .'"
            ]
          },
          "metadata": {},
          "execution_count": 225
        }
      ]
    },
    {
      "cell_type": "code",
      "metadata": {
        "colab": {
          "base_uri": "https://localhost:8080/",
          "height": 0
        },
        "id": "8e4d2673",
        "outputId": "6211b597-52ac-4adf-af37-4db2dd75365d"
      },
      "source": [
        "df_train.sentence2[1]"
      ],
      "id": "8e4d2673",
      "execution_count": 226,
      "outputs": [
        {
          "output_type": "execute_result",
          "data": {
            "application/vnd.google.colaboratory.intrinsic+json": {
              "type": "string"
            },
            "text/plain": [
              "'a person is at a diner , ordering an omelette .'"
            ]
          },
          "metadata": {},
          "execution_count": 226
        }
      ]
    },
    {
      "cell_type": "code",
      "metadata": {
        "colab": {
          "base_uri": "https://localhost:8080/"
        },
        "id": "6021297d",
        "outputId": "eb7fdc94-914a-49b6-cf3a-c99f9e35c866"
      },
      "source": [
        "get_max_length1(df_train)"
      ],
      "id": "6021297d",
      "execution_count": 227,
      "outputs": [
        {
          "output_type": "execute_result",
          "data": {
            "text/plain": [
              "82"
            ]
          },
          "metadata": {},
          "execution_count": 227
        }
      ]
    },
    {
      "cell_type": "code",
      "metadata": {
        "colab": {
          "base_uri": "https://localhost:8080/"
        },
        "id": "8d8d1fbf",
        "outputId": "6e09f629-bb27-4714-f09f-74a142c1487a"
      },
      "source": [
        "get_max_length2(df_train)"
      ],
      "id": "8d8d1fbf",
      "execution_count": 228,
      "outputs": [
        {
          "output_type": "execute_result",
          "data": {
            "text/plain": [
              "62"
            ]
          },
          "metadata": {},
          "execution_count": 228
        }
      ]
    },
    {
      "cell_type": "code",
      "metadata": {
        "id": "c620f9d9"
      },
      "source": [
        "df_val.sentence1=df_val.sentence1.apply(contraction_fix)\n",
        "df_val.sentence2=df_val.sentence2.apply(contraction_fix)"
      ],
      "id": "c620f9d9",
      "execution_count": 229,
      "outputs": []
    },
    {
      "cell_type": "code",
      "metadata": {
        "id": "5dc4ab65"
      },
      "source": [
        "df_val.sentence1=df_val.sentence1.apply(is_special)\n",
        "df_val.sentence2=df_val.sentence2.apply(is_special)"
      ],
      "id": "5dc4ab65",
      "execution_count": 230,
      "outputs": []
    },
    {
      "cell_type": "code",
      "metadata": {
        "id": "9d14cf74"
      },
      "source": [
        "df_val.sentence1=df_val.sentence1.apply(rem_extra)\n",
        "df_val.sentence2=df_val.sentence2.apply(rem_extra)"
      ],
      "id": "9d14cf74",
      "execution_count": 231,
      "outputs": []
    },
    {
      "cell_type": "code",
      "metadata": {
        "id": "b36929f5"
      },
      "source": [
        "df_val.sentence1=df_val.sentence1.apply(lower1)\n",
        "df_val.sentence2=df_val.sentence2.apply(lower1)"
      ],
      "id": "b36929f5",
      "execution_count": 232,
      "outputs": []
    },
    {
      "cell_type": "code",
      "metadata": {
        "colab": {
          "base_uri": "https://localhost:8080/"
        },
        "id": "a41f0f27",
        "outputId": "95ca22b0-ac35-4365-ba11-691feace446b"
      },
      "source": [
        "get_max_length1(df_val)"
      ],
      "id": "a41f0f27",
      "execution_count": 233,
      "outputs": [
        {
          "output_type": "execute_result",
          "data": {
            "text/plain": [
              "59"
            ]
          },
          "metadata": {},
          "execution_count": 233
        }
      ]
    },
    {
      "cell_type": "code",
      "metadata": {
        "colab": {
          "base_uri": "https://localhost:8080/"
        },
        "id": "c2c475ce",
        "outputId": "db5e3cb2-9ec4-49ab-b546-f0ddfa6f3cbb"
      },
      "source": [
        "get_max_length2(df_val)"
      ],
      "id": "c2c475ce",
      "execution_count": 234,
      "outputs": [
        {
          "output_type": "execute_result",
          "data": {
            "text/plain": [
              "55"
            ]
          },
          "metadata": {},
          "execution_count": 234
        }
      ]
    },
    {
      "cell_type": "code",
      "metadata": {
        "id": "6d62f748"
      },
      "source": [
        "df_test.sentence1=df_test.sentence1.apply(contraction_fix)\n",
        "df_test.sentence2=df_test.sentence2.apply(contraction_fix)"
      ],
      "id": "6d62f748",
      "execution_count": 235,
      "outputs": []
    },
    {
      "cell_type": "code",
      "metadata": {
        "id": "5b602938"
      },
      "source": [
        "df_test.sentence1=df_test.sentence1.apply(is_special)\n",
        "df_test.sentence2=df_test.sentence2.apply(is_special)"
      ],
      "id": "5b602938",
      "execution_count": 236,
      "outputs": []
    },
    {
      "cell_type": "code",
      "metadata": {
        "id": "ec02ca0e"
      },
      "source": [
        "df_test.sentence1=df_test.sentence1.apply(rem_extra)\n",
        "df_test.sentence2=df_test.sentence2.apply(rem_extra)"
      ],
      "id": "ec02ca0e",
      "execution_count": 237,
      "outputs": []
    },
    {
      "cell_type": "code",
      "metadata": {
        "id": "c6afbecb"
      },
      "source": [
        "df_test.sentence1=df_test.sentence1.apply(lower1)\n",
        "df_test.sentence2=df_test.sentence2.apply(lower1)"
      ],
      "id": "c6afbecb",
      "execution_count": 238,
      "outputs": []
    },
    {
      "cell_type": "code",
      "metadata": {
        "colab": {
          "base_uri": "https://localhost:8080/"
        },
        "id": "38063223",
        "outputId": "b0c80690-4333-4f1c-a497-449cc4943c62"
      },
      "source": [
        "get_max_length1(df_test)"
      ],
      "id": "38063223",
      "execution_count": 239,
      "outputs": [
        {
          "output_type": "execute_result",
          "data": {
            "text/plain": [
              "57"
            ]
          },
          "metadata": {},
          "execution_count": 239
        }
      ]
    },
    {
      "cell_type": "code",
      "metadata": {
        "colab": {
          "base_uri": "https://localhost:8080/"
        },
        "id": "d6fc0913",
        "outputId": "9d4e067d-d464-4bd6-a4f6-cf3b383ac3e5"
      },
      "source": [
        "get_max_length2(df_test)\n"
      ],
      "id": "d6fc0913",
      "execution_count": 240,
      "outputs": [
        {
          "output_type": "execute_result",
          "data": {
            "text/plain": [
              "30"
            ]
          },
          "metadata": {},
          "execution_count": 240
        }
      ]
    },
    {
      "cell_type": "code",
      "metadata": {
        "colab": {
          "base_uri": "https://localhost:8080/",
          "height": 0
        },
        "id": "jx7DZl33LMiK",
        "outputId": "c11a9369-119a-452c-b0f9-7a8e4f9f48db"
      },
      "source": [
        "df_train.head()"
      ],
      "id": "jx7DZl33LMiK",
      "execution_count": 241,
      "outputs": [
        {
          "output_type": "execute_result",
          "data": {
            "text/html": [
              "<div>\n",
              "<style scoped>\n",
              "    .dataframe tbody tr th:only-of-type {\n",
              "        vertical-align: middle;\n",
              "    }\n",
              "\n",
              "    .dataframe tbody tr th {\n",
              "        vertical-align: top;\n",
              "    }\n",
              "\n",
              "    .dataframe thead th {\n",
              "        text-align: right;\n",
              "    }\n",
              "</style>\n",
              "<table border=\"1\" class=\"dataframe\">\n",
              "  <thead>\n",
              "    <tr style=\"text-align: right;\">\n",
              "      <th></th>\n",
              "      <th>gold_label</th>\n",
              "      <th>sentence1</th>\n",
              "      <th>sentence2</th>\n",
              "      <th>labels</th>\n",
              "    </tr>\n",
              "  </thead>\n",
              "  <tbody>\n",
              "    <tr>\n",
              "      <th>0</th>\n",
              "      <td>neutral</td>\n",
              "      <td>a person on a horse jumps over a broken down a...</td>\n",
              "      <td>a person is training his horse for a competiti...</td>\n",
              "      <td>0</td>\n",
              "    </tr>\n",
              "    <tr>\n",
              "      <th>1</th>\n",
              "      <td>contradiction</td>\n",
              "      <td>a person on a horse jumps over a broken down a...</td>\n",
              "      <td>a person is at a diner , ordering an omelette .</td>\n",
              "      <td>0</td>\n",
              "    </tr>\n",
              "    <tr>\n",
              "      <th>2</th>\n",
              "      <td>entailment</td>\n",
              "      <td>a person on a horse jumps over a broken down a...</td>\n",
              "      <td>a person is outdoors , on a horse .</td>\n",
              "      <td>1</td>\n",
              "    </tr>\n",
              "    <tr>\n",
              "      <th>3</th>\n",
              "      <td>neutral</td>\n",
              "      <td>children smiling and waving at camera</td>\n",
              "      <td>they are smiling at their parents</td>\n",
              "      <td>0</td>\n",
              "    </tr>\n",
              "    <tr>\n",
              "      <th>4</th>\n",
              "      <td>entailment</td>\n",
              "      <td>children smiling and waving at camera</td>\n",
              "      <td>there are children present</td>\n",
              "      <td>1</td>\n",
              "    </tr>\n",
              "  </tbody>\n",
              "</table>\n",
              "</div>"
            ],
            "text/plain": [
              "      gold_label  ... labels\n",
              "0        neutral  ...      0\n",
              "1  contradiction  ...      0\n",
              "2     entailment  ...      1\n",
              "3        neutral  ...      0\n",
              "4     entailment  ...      1\n",
              "\n",
              "[5 rows x 4 columns]"
            ]
          },
          "metadata": {},
          "execution_count": 241
        }
      ]
    },
    {
      "cell_type": "markdown",
      "metadata": {
        "id": "49f6173a"
      },
      "source": [
        "# Tokenizing and converting into fix length seq by zero padding"
      ],
      "id": "49f6173a"
    },
    {
      "cell_type": "code",
      "metadata": {
        "id": "4223457a"
      },
      "source": [
        "## Tokenize\n",
        "tk=keras.preprocessing.text.Tokenizer(filters='\"#*+/:;<=>@[\\\\]^_{|}~\\t\\n')"
      ],
      "id": "4223457a",
      "execution_count": 242,
      "outputs": []
    },
    {
      "cell_type": "code",
      "metadata": {
        "id": "e328858d"
      },
      "source": [
        "tk.fit_on_texts(df_train.sentence1)"
      ],
      "id": "e328858d",
      "execution_count": 243,
      "outputs": []
    },
    {
      "cell_type": "code",
      "metadata": {
        "colab": {
          "base_uri": "https://localhost:8080/"
        },
        "id": "f6fab7a0",
        "outputId": "db9a694c-3fb6-43be-abae-1364e0846ab5"
      },
      "source": [
        "len(tk.word_index)"
      ],
      "id": "f6fab7a0",
      "execution_count": 244,
      "outputs": [
        {
          "output_type": "execute_result",
          "data": {
            "text/plain": [
              "17990"
            ]
          },
          "metadata": {},
          "execution_count": 244
        }
      ]
    },
    {
      "cell_type": "code",
      "metadata": {
        "id": "a0ed5a72"
      },
      "source": [
        "tk.fit_on_texts(df_train.sentence2)"
      ],
      "id": "a0ed5a72",
      "execution_count": 245,
      "outputs": []
    },
    {
      "cell_type": "code",
      "metadata": {
        "colab": {
          "base_uri": "https://localhost:8080/"
        },
        "id": "adcca4af",
        "outputId": "0413d885-19cf-4aa8-fde4-74c13270d0aa"
      },
      "source": [
        "len(tk.word_index)"
      ],
      "id": "adcca4af",
      "execution_count": 246,
      "outputs": [
        {
          "output_type": "execute_result",
          "data": {
            "text/plain": [
              "33228"
            ]
          },
          "metadata": {},
          "execution_count": 246
        }
      ]
    },
    {
      "cell_type": "code",
      "metadata": {
        "id": "152272ce"
      },
      "source": [
        "size_of_vocabulary=len(tk.word_index)+1"
      ],
      "id": "152272ce",
      "execution_count": 247,
      "outputs": []
    },
    {
      "cell_type": "code",
      "metadata": {
        "id": "e823b40b"
      },
      "source": [
        "max_len1=84\n",
        "max_len2=64\n"
      ],
      "id": "e823b40b",
      "execution_count": 248,
      "outputs": []
    },
    {
      "cell_type": "code",
      "metadata": {
        "id": "57d56153"
      },
      "source": [
        "def prep_text(txt, tk, max_seq_len):\n",
        "    text_seqs = tk.texts_to_sequences(txt)\n",
        "    return tf.keras.preprocessing.sequence.pad_sequences(text_seqs, maxlen=max_seq_len)"
      ],
      "id": "57d56153",
      "execution_count": 249,
      "outputs": []
    },
    {
      "cell_type": "code",
      "metadata": {
        "id": "09577d5b"
      },
      "source": [
        "## sequnces after padding\n",
        "data_train_sen1 = prep_text(df_train.sentence1, tk,max_len1)\n",
        "data_train_sen2 = prep_text(df_train.sentence2, tk,max_len2)"
      ],
      "id": "09577d5b",
      "execution_count": 250,
      "outputs": []
    },
    {
      "cell_type": "code",
      "metadata": {
        "id": "f54ecb33"
      },
      "source": [
        "## sequnces after padding\n",
        "data_val_sen1 = prep_text(df_val.sentence1, tk,max_len1)\n",
        "data_val_sen2 = prep_text(df_val.sentence2, tk,max_len2)"
      ],
      "id": "f54ecb33",
      "execution_count": 251,
      "outputs": []
    },
    {
      "cell_type": "code",
      "metadata": {
        "id": "89d5a640"
      },
      "source": [
        "## sequnces after padding\n",
        "data_test_sen1 = prep_text(df_test.sentence1, tk,max_len1)\n",
        "data_test_sen2 = prep_text(df_test.sentence2, tk,max_len2)"
      ],
      "id": "89d5a640",
      "execution_count": 252,
      "outputs": []
    },
    {
      "cell_type": "code",
      "metadata": {
        "id": "ac709a44"
      },
      "source": [
        "# data_train=np.concatenate((data_train_sen1,data_train_sen2),axis=1)\n",
        "# data_val=np.concatenate((data_val_sen1,data_val_sen2),axis=1)\n",
        "# data_test=np.concatenate((data_test_sen1,data_test_sen2),axis=1)"
      ],
      "id": "ac709a44",
      "execution_count": 253,
      "outputs": []
    },
    {
      "cell_type": "code",
      "metadata": {
        "id": "eMUWks-gGodV"
      },
      "source": [
        "# data_train.shape\n"
      ],
      "id": "eMUWks-gGodV",
      "execution_count": 254,
      "outputs": []
    },
    {
      "cell_type": "code",
      "metadata": {
        "id": "a-GtSveZHJ6n"
      },
      "source": [
        "# data_test.shape"
      ],
      "id": "a-GtSveZHJ6n",
      "execution_count": 255,
      "outputs": []
    },
    {
      "cell_type": "markdown",
      "metadata": {
        "id": "895bc09e"
      },
      "source": [
        "# Load pretrained glove word vectors"
      ],
      "id": "895bc09e"
    },
    {
      "cell_type": "code",
      "metadata": {
        "id": "51ada433"
      },
      "source": [
        "## Load pretrained datasets\n",
        "# load the whole embedding into memory\n",
        "def load_Mat(addrs,size_of_vocabulary,tk):\n",
        "    embeddings_index = dict()\n",
        "    f = open(addrs)\n",
        "    for line in f:\n",
        "        values = line.split()\n",
        "        word = values[0]\n",
        "        coefs = np.asarray(values[1:], dtype='float32')\n",
        "        embeddings_index[word] = coefs\n",
        "\n",
        "    f.close()\n",
        "    print('Loaded %s word vectors.' % len(embeddings_index))\n",
        "    \n",
        "    # create a weight matrix for words in training docs\n",
        "    embedding_matrix = np.zeros((size_of_vocabulary, 300))\n",
        "    c=0\n",
        "    for word, i in tk.word_index.items():\n",
        "        embedding_vector = embeddings_index.get(word)\n",
        "        if embedding_vector is not None:\n",
        "            embedding_matrix[i] = embedding_vector\n",
        "            c+=1\n",
        "        else:\n",
        "            #print(word)\n",
        "            pass\n",
        "    print('No. of out of vocab word in train set= %s'%(size_of_vocabulary-c))\n",
        "    \n",
        "    return embedding_matrix"
      ],
      "id": "51ada433",
      "execution_count": 256,
      "outputs": []
    },
    {
      "cell_type": "code",
      "metadata": {
        "colab": {
          "base_uri": "https://localhost:8080/"
        },
        "id": "39feae24",
        "outputId": "aca4eefa-fe1e-4508-ffc7-06157d60bac3"
      },
      "source": [
        "embd_g=load_Mat(\"/content/drive/MyDrive/Colab Notebooks/DATASETS/embeddings/glove.6B.300d.txt\",size_of_vocabulary,tk)"
      ],
      "id": "39feae24",
      "execution_count": 257,
      "outputs": [
        {
          "output_type": "stream",
          "name": "stdout",
          "text": [
            "Loaded 400000 word vectors.\n",
            "No. of out of vocab word in train set= 5988\n"
          ]
        }
      ]
    },
    {
      "cell_type": "markdown",
      "metadata": {
        "id": "eeXsEzCsKs6A"
      },
      "source": [
        "# Monitor val_loss"
      ],
      "id": "eeXsEzCsKs6A"
    },
    {
      "cell_type": "code",
      "metadata": {
        "id": "iAOxeg03KqwG"
      },
      "source": [
        "es=tf.keras.callbacks.EarlyStopping(monitor='val_loss',patience=3,mode='min')"
      ],
      "id": "iAOxeg03KqwG",
      "execution_count": 258,
      "outputs": []
    },
    {
      "cell_type": "markdown",
      "metadata": {
        "id": "b0e122d1"
      },
      "source": [
        "# Model Design with Bi-LSTM"
      ],
      "id": "b0e122d1"
    },
    {
      "cell_type": "code",
      "metadata": {
        "colab": {
          "base_uri": "https://localhost:8080/"
        },
        "id": "Zclga_WtofJ_",
        "outputId": "084b4a8b-399a-4204-fd3d-42da14aa0b03"
      },
      "source": [
        "tf.keras.backend.clear_session()\n",
        "inp1 = layers.Input(shape=(max_len1,))\n",
        "inp2 = layers.Input(shape=(max_len2,))\n",
        "x1 = layers.Embedding(size_of_vocabulary, 300, weights=[embd_g],trainable=False)(inp1)\n",
        "x2 = layers.Embedding(size_of_vocabulary, 300, weights=[embd_g],trainable=False)(inp2)\n",
        "x1 = layers.Bidirectional(layers.LSTM(128, dropout=0.2))(x1)\n",
        "x2 = layers.Bidirectional(layers.LSTM(128, dropout=0.2))(x2)\n",
        "x3 = layers.multiply([x1, x2])\n",
        "x4 = K.abs(layers.subtract([x1,x2]))\n",
        "x=layers.Concatenate(axis=1)([x1,x2,x3,x4])\n",
        "x = layers.Dense(128,activation='relu')(x)\n",
        "out = layers.Dense(1,activation='sigmoid')(x)\n",
        "model1 = Model([inp1,inp2], out)\n",
        "model1.compile(loss=tf.keras.losses.BinaryCrossentropy(), optimizer='adam', metrics=['accuracy'])\n",
        "model1.summary()"
      ],
      "id": "Zclga_WtofJ_",
      "execution_count": 290,
      "outputs": [
        {
          "output_type": "stream",
          "name": "stdout",
          "text": [
            "Model: \"model\"\n",
            "__________________________________________________________________________________________________\n",
            "Layer (type)                    Output Shape         Param #     Connected to                     \n",
            "==================================================================================================\n",
            "input_1 (InputLayer)            [(None, 84)]         0                                            \n",
            "__________________________________________________________________________________________________\n",
            "input_2 (InputLayer)            [(None, 64)]         0                                            \n",
            "__________________________________________________________________________________________________\n",
            "embedding (Embedding)           (None, 84, 300)      9968700     input_1[0][0]                    \n",
            "__________________________________________________________________________________________________\n",
            "embedding_1 (Embedding)         (None, 64, 300)      9968700     input_2[0][0]                    \n",
            "__________________________________________________________________________________________________\n",
            "bidirectional (Bidirectional)   (None, 256)          439296      embedding[0][0]                  \n",
            "__________________________________________________________________________________________________\n",
            "bidirectional_1 (Bidirectional) (None, 256)          439296      embedding_1[0][0]                \n",
            "__________________________________________________________________________________________________\n",
            "subtract (Subtract)             (None, 256)          0           bidirectional[0][0]              \n",
            "                                                                 bidirectional_1[0][0]            \n",
            "__________________________________________________________________________________________________\n",
            "multiply (Multiply)             (None, 256)          0           bidirectional[0][0]              \n",
            "                                                                 bidirectional_1[0][0]            \n",
            "__________________________________________________________________________________________________\n",
            "tf.math.abs (TFOpLambda)        (None, 256)          0           subtract[0][0]                   \n",
            "__________________________________________________________________________________________________\n",
            "concatenate (Concatenate)       (None, 1024)         0           bidirectional[0][0]              \n",
            "                                                                 bidirectional_1[0][0]            \n",
            "                                                                 multiply[0][0]                   \n",
            "                                                                 tf.math.abs[0][0]                \n",
            "__________________________________________________________________________________________________\n",
            "dense (Dense)                   (None, 128)          131200      concatenate[0][0]                \n",
            "__________________________________________________________________________________________________\n",
            "dense_1 (Dense)                 (None, 1)            129         dense[0][0]                      \n",
            "==================================================================================================\n",
            "Total params: 20,947,321\n",
            "Trainable params: 1,009,921\n",
            "Non-trainable params: 19,937,400\n",
            "__________________________________________________________________________________________________\n"
          ]
        }
      ]
    },
    {
      "cell_type": "code",
      "metadata": {
        "colab": {
          "base_uri": "https://localhost:8080/",
          "height": 821
        },
        "id": "1940c924",
        "outputId": "f70bdf00-3e36-4b0e-eac6-b4a6242f428b"
      },
      "source": [
        "tf.keras.utils.plot_model(model1,show_shapes=True,expand_nested=True)"
      ],
      "id": "1940c924",
      "execution_count": 291,
      "outputs": [
        {
          "output_type": "execute_result",
          "data": {
            "image/png": "[encoded data removed]",
            "text/plain": [
              "<IPython.core.display.Image object>"
            ]
          },
          "metadata": {},
          "execution_count": 291
        }
      ]
    },
    {
      "cell_type": "code",
      "metadata": {
        "id": "3de5a778",
        "colab": {
          "base_uri": "https://localhost:8080/"
        },
        "outputId": "3ed74f42-d9ab-42a3-99d9-1632dbb890e1"
      },
      "source": [
        "model1.fit([data_train_sen1,data_train_sen2],df_train.labels.values,batch_size=1024,epochs=30,callbacks=[es],validation_data=([data_val_sen1,data_val_sen2],df_val.labels.values))"
      ],
      "id": "3de5a778",
      "execution_count": null,
      "outputs": [
        {
          "output_type": "stream",
          "name": "stdout",
          "text": [
            "Epoch 1/30\n",
            "482/537 [=========================>....] - ETA: 20s - loss: 0.4820 - accuracy: 0.7622"
          ]
        }
      ]
    },
    {
      "cell_type": "code",
      "metadata": {
        "colab": {
          "base_uri": "https://localhost:8080/"
        },
        "id": "rcaNtagNuQgA",
        "outputId": "67f43ac0-9474-444e-cc3f-9886b3ed2613"
      },
      "source": [
        " model1.save('/content/drive/MyDrive/Colab Notebooks/DATASETS/assgn4/model1.h5')"
      ],
      "id": "rcaNtagNuQgA",
      "execution_count": 267,
      "outputs": [
        {
          "output_type": "stream",
          "name": "stderr",
          "text": [
            "/usr/local/lib/python3.7/dist-packages/keras/utils/generic_utils.py:497: CustomMaskWarning: Custom mask layers require a config and must override get_config. When loading, the custom mask layer must be passed to the custom_objects argument.\n",
            "  category=CustomMaskWarning)\n"
          ]
        }
      ]
    },
    {
      "cell_type": "code",
      "metadata": {
        "id": "YxxVyczTg56U"
      },
      "source": [
        "model1=load_model('/content/drive/MyDrive/Colab Notebooks/DATASETS/assgn4/model1.h5')"
      ],
      "id": "YxxVyczTg56U",
      "execution_count": 274,
      "outputs": []
    },
    {
      "cell_type": "code",
      "metadata": {
        "colab": {
          "base_uri": "https://localhost:8080/"
        },
        "id": "Luc7mJzOm7l_",
        "outputId": "55c72316-7c37-43de-a62f-03fc11fafb5c"
      },
      "source": [
        "model1.evaluate([data_test_sen1,data_test_sen2],df_test.labels.values)"
      ],
      "id": "Luc7mJzOm7l_",
      "execution_count": 275,
      "outputs": [
        {
          "output_type": "stream",
          "name": "stdout",
          "text": [
            "307/307 [==============================] - 11s 30ms/step - loss: 0.2886 - accuracy: 0.8806\n"
          ]
        },
        {
          "output_type": "execute_result",
          "data": {
            "text/plain": [
              "[0.2886148691177368, 0.8805985450744629]"
            ]
          },
          "metadata": {},
          "execution_count": 275
        }
      ]
    },
    {
      "cell_type": "code",
      "metadata": {
        "id": "Ttgz8oOKXzEm"
      },
      "source": [
        "y_pred=np.argmax(model1.predict([data_test_sen1,data_test_sen2]),axis=1)"
      ],
      "id": "Ttgz8oOKXzEm",
      "execution_count": 276,
      "outputs": []
    },
    {
      "cell_type": "code",
      "metadata": {
        "id": "isT09NnGTm69",
        "colab": {
          "base_uri": "https://localhost:8080/"
        },
        "outputId": "179c55ad-13ff-42fe-cf62-a072d1abe09d"
      },
      "source": [
        "f1_score(df_test.labels.values,y_pred1)"
      ],
      "id": "isT09NnGTm69",
      "execution_count": 277,
      "outputs": [
        {
          "output_type": "execute_result",
          "data": {
            "text/plain": [
              "0.7721851145038169"
            ]
          },
          "metadata": {},
          "execution_count": 277
        }
      ]
    },
    {
      "cell_type": "code",
      "metadata": {
        "id": "IcRG9S3TV2Pt"
      },
      "source": [
        ""
      ],
      "id": "IcRG9S3TV2Pt",
      "execution_count": null,
      "outputs": []
    }
  ]
}